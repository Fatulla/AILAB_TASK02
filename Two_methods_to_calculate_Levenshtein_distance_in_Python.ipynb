{
  "nbformat": 4,
  "nbformat_minor": 0,
  "metadata": {
    "colab": {
      "provenance": [],
      "authorship_tag": "ABX9TyNHMiOXftrQ251AJULcGJSx",
      "include_colab_link": true
    },
    "kernelspec": {
      "name": "python3",
      "display_name": "Python 3"
    },
    "language_info": {
      "name": "python"
    }
  },
  "cells": [
    {
      "cell_type": "markdown",
      "metadata": {
        "id": "view-in-github",
        "colab_type": "text"
      },
      "source": [
        "<a href=\"https://colab.research.google.com/github/Fatulla/AILAB_TASK02/blob/main/Two_methods_to_calculate_Levenshtein_distance_in_Python.ipynb\" target=\"_parent\"><img src=\"https://colab.research.google.com/assets/colab-badge.svg\" alt=\"Open In Colab\"/></a>"
      ]
    },
    {
      "cell_type": "code",
      "execution_count": 15,
      "metadata": {
        "colab": {
          "base_uri": "https://localhost:8080/"
        },
        "id": "VL7KmZZ12Z3B",
        "outputId": "92cff299-fdb6-403e-f120-ca957979ff60"
      },
      "outputs": [
        {
          "output_type": "stream",
          "name": "stdout",
          "text": [
            "Levenshtein Distance between Münaqişə & Mütaliyə is 3\n"
          ]
        }
      ],
      "source": [
        "def levenshtein_distance(s, t):\n",
        "    m = len(s)\n",
        "    n = len(t)\n",
        "    d = [[0] * (n + 1) for i in range(m + 1)]\n",
        "\n",
        "    for i in range(1, m + 1):\n",
        "        d[i][0] = i\n",
        "\n",
        "    for j in range(1, n + 1):\n",
        "        d[0][j] = j\n",
        "\n",
        "    for j in range(1, n + 1):\n",
        "        for i in range(1, m + 1):\n",
        "            if s[i - 1] == t[j - 1]:\n",
        "                cost = 0\n",
        "            else:\n",
        "                cost = 1\n",
        "            d[i][j] = min(d[i - 1][j] + 1,      # deletion\n",
        "                          d[i][j - 1] + 1,      # insertion\n",
        "                          d[i - 1][j - 1] + cost) # substitution\n",
        "\n",
        "    return d[m][n]\n",
        "\n",
        "string1 = \"Münaqişə\"\n",
        "string2 = \"Mütaliyə\"\n",
        "\n",
        "l_dist = levenshtein_distance(string1, string2)\n",
        "\n",
        "print(\"Levenshtein Distance between \"+string1+\" & \"+string2+\" is \" + str(l_dist))"
      ]
    },
    {
      "cell_type": "code",
      "source": [
        "!pip install Levenshtein"
      ],
      "metadata": {
        "colab": {
          "base_uri": "https://localhost:8080/"
        },
        "id": "fRWK_FO-4bnE",
        "outputId": "fd5ebefa-d229-4445-ae22-a6f3bb80cf7e"
      },
      "execution_count": 12,
      "outputs": [
        {
          "output_type": "stream",
          "name": "stdout",
          "text": [
            "Collecting Levenshtein\n",
            "  Downloading levenshtein-0.27.1-cp311-cp311-manylinux_2_17_x86_64.manylinux2014_x86_64.whl.metadata (3.6 kB)\n",
            "Collecting rapidfuzz<4.0.0,>=3.9.0 (from Levenshtein)\n",
            "  Downloading rapidfuzz-3.12.2-cp311-cp311-manylinux_2_17_x86_64.manylinux2014_x86_64.whl.metadata (12 kB)\n",
            "Downloading levenshtein-0.27.1-cp311-cp311-manylinux_2_17_x86_64.manylinux2014_x86_64.whl (161 kB)\n",
            "\u001b[2K   \u001b[90m━━━━━━━━━━━━━━━━━━━━━━━━━━━━━━━━━━━━━━━━\u001b[0m \u001b[32m161.7/161.7 kB\u001b[0m \u001b[31m3.1 MB/s\u001b[0m eta \u001b[36m0:00:00\u001b[0m\n",
            "\u001b[?25hDownloading rapidfuzz-3.12.2-cp311-cp311-manylinux_2_17_x86_64.manylinux2014_x86_64.whl (3.1 MB)\n",
            "\u001b[2K   \u001b[90m━━━━━━━━━━━━━━━━━━━━━━━━━━━━━━━━━━━━━━━━\u001b[0m \u001b[32m3.1/3.1 MB\u001b[0m \u001b[31m26.7 MB/s\u001b[0m eta \u001b[36m0:00:00\u001b[0m\n",
            "\u001b[?25hInstalling collected packages: rapidfuzz, Levenshtein\n",
            "Successfully installed Levenshtein-0.27.1 rapidfuzz-3.12.2\n"
          ]
        }
      ]
    },
    {
      "cell_type": "code",
      "source": [
        "from Levenshtein import distance\n",
        "string1 = \"Mülkiyyət\"\n",
        "string2 = \"Mükəlləfiyyət\"\n",
        "\n",
        "l_dist = distance(string1, string2)\n",
        "\n",
        "print(\"Levenshtein Distance between \"+string1+\" & \"+string2+\" is \" + str(l_dist))"
      ],
      "metadata": {
        "colab": {
          "base_uri": "https://localhost:8080/"
        },
        "id": "z5-Zlk824fOJ",
        "outputId": "98971c4b-89d8-4f0b-c057-b08d5f913c28"
      },
      "execution_count": 14,
      "outputs": [
        {
          "output_type": "stream",
          "name": "stdout",
          "text": [
            "Levenshtein Distance between Mülkiyyət & Mükəlləfiyyət is 5\n"
          ]
        }
      ]
    }
  ]
}