{
  "nbformat": 4,
  "nbformat_minor": 0,
  "metadata": {
    "colab": {
      "provenance": [],
      "authorship_tag": "ABX9TyPzpbIybhf3vgdvoL4uIHj0",
      "include_colab_link": true
    },
    "kernelspec": {
      "name": "python3",
      "display_name": "Python 3"
    },
    "language_info": {
      "name": "python"
    }
  },
  "cells": [
    {
      "cell_type": "markdown",
      "metadata": {
        "id": "view-in-github",
        "colab_type": "text"
      },
      "source": [
        "<a href=\"https://colab.research.google.com/github/Fatulla/AILAB_TASK02/blob/main/damerau_levenshtein_distance.ipynb\" target=\"_parent\"><img src=\"https://colab.research.google.com/assets/colab-badge.svg\" alt=\"Open In Colab\"/></a>"
      ]
    },
    {
      "cell_type": "code",
      "execution_count": 14,
      "metadata": {
        "colab": {
          "base_uri": "https://localhost:8080/"
        },
        "id": "joR1RDrO-kaE",
        "outputId": "85aef145-d034-4f6b-e399-09db48d0c592"
      },
      "outputs": [
        {
          "output_type": "stream",
          "name": "stdout",
          "text": [
            "Damerau-Levenshtein məsafəsi: 2\n"
          ]
        }
      ],
      "source": [
        "def damerau_levenshtein_distance_improved(a, b):\n",
        "    INF = len(a) + len(b)\n",
        "\n",
        "    matrix  = [[INF for n in range(len(b) + 2)]]\n",
        "    matrix += [[INF] + list(range(len(b) + 1))]\n",
        "    matrix += [[INF, m] + [0] * len(b) for m in range(1, len(a) + 1)]\n",
        "\n",
        "    last_row = {}\n",
        "\n",
        "    for row in range(1, len(a) + 1):\n",
        "        ch_a = a[row-1]\n",
        "        last_match_col = 0\n",
        "\n",
        "        for col in range(1, len(b) + 1):\n",
        "            ch_b = b[col-1]\n",
        "            last_matching_row = last_row.get(ch_b, 0)\n",
        "\n",
        "            cost = 0 if ch_a == ch_b else 1\n",
        "\n",
        "            matrix[row+1][col+1] = min(\n",
        "                matrix[row][col] + cost,\n",
        "                matrix[row+1][col] + 1,\n",
        "                matrix[row][col+1] + 1,\n",
        "                matrix[last_matching_row][last_match_col] + max((row - last_matching_row - 1), (col - last_match_col - 1)) + 1\n",
        "            )\n",
        "\n",
        "            if cost == 0:\n",
        "                last_match_col = col\n",
        "\n",
        "        last_row[ch_a] = row\n",
        "\n",
        "    return matrix[-1][-1]\n",
        "\n",
        "\n",
        "# Test\n",
        "a = \"abc\"\n",
        "b = \"ca\"\n",
        "result = damerau_levenshtein_distance_improved(a, b)\n",
        "print(\"Damerau-Levenshtein məsafəsi:\", result)\n"
      ]
    }
  ]
}