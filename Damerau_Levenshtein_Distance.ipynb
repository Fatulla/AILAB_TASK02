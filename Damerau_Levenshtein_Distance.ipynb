{
  "nbformat": 4,
  "nbformat_minor": 0,
  "metadata": {
    "colab": {
      "provenance": [],
      "authorship_tag": "ABX9TyPCPjsPsDft5G0ziWJklOrD",
      "include_colab_link": true
    },
    "kernelspec": {
      "name": "python3",
      "display_name": "Python 3"
    },
    "language_info": {
      "name": "python"
    }
  },
  "cells": [
    {
      "cell_type": "markdown",
      "metadata": {
        "id": "view-in-github",
        "colab_type": "text"
      },
      "source": [
        "<a href=\"https://colab.research.google.com/github/Fatulla/AILAB_TASK02/blob/main/Damerau_Levenshtein_Distance.ipynb\" target=\"_parent\"><img src=\"https://colab.research.google.com/assets/colab-badge.svg\" alt=\"Open In Colab\"/></a>"
      ]
    },
    {
      "cell_type": "code",
      "execution_count": 13,
      "metadata": {
        "colab": {
          "base_uri": "https://localhost:8080/"
        },
        "id": "joR1RDrO-kaE",
        "outputId": "cfb3274a-681d-42d9-950f-ade4d72a4ec6"
      },
      "outputs": [
        {
          "output_type": "stream",
          "name": "stdout",
          "text": [
            "Damerau-Levenshtein məsafəsi: 2\n"
          ]
        }
      ],
      "source": [
        "def damerau_levenshtein_distance_improved(a, b):\n",
        "    # \"Infinity\" -- maksimum mümkün redaktə məsafəsindən böyük bir dəyər\n",
        "    # Transpozisiyanı ilk simvollar üçün qarşısını almaq üçün istifadə olunur\n",
        "    INF = len(a) + len(b)\n",
        "\n",
        "    # Matrisi hazırlayırıq: (M + 2) x (N + 2)\n",
        "    matrix  = [[INF for n in range(len(b) + 2)]]  # range istifadəsi\n",
        "    matrix += [[INF] + list(range(len(b) + 1))]  # range istifadəsi\n",
        "    matrix += [[INF, m] + [0] * len(b) for m in range(1, len(a) + 1)]  # range istifadəsi\n",
        "\n",
        "    # Sonuncu uyğunluqları saxlayan sözlük: DA - Wikipedia psödo kodu\n",
        "    last_row = {}\n",
        "\n",
        "    # Hesablama (dəyərləri doldurma)\n",
        "    for row in range(1, len(a) + 1):\n",
        "        # Bu anki xarakter a'dan\n",
        "        ch_a = a[row-1]\n",
        "\n",
        "        # Bu sətir üçün son uyğunluq sütunu: DB - psödo kod\n",
        "        last_match_col = 0\n",
        "\n",
        "        for col in range(1, len(b) + 1):\n",
        "            # Bu anki xarakter b'dən\n",
        "            ch_b = b[col-1]\n",
        "\n",
        "            # Sonuncu uyğunluq sətiri\n",
        "            last_matching_row = last_row.get(ch_b, 0)\n",
        "\n",
        "            # Əvəzləmə üçün xərc\n",
        "            cost = 0 if ch_a == ch_b else 1\n",
        "\n",
        "            # Altstring məsafəsini hesablama\n",
        "            matrix[row+1][col+1] = min(\n",
        "                matrix[row][col] + cost,  # Əvəzləmə\n",
        "                matrix[row+1][col] + 1,   # Əlavə etmə\n",
        "                matrix[row][col+1] + 1,   # Silinmə\n",
        "\n",
        "                # Transpozisiya\n",
        "                # Transpozisiyadan əvvəlki xərcə qayıt\n",
        "                matrix[last_matching_row][last_match_col]\n",
        "                    # Transpozisiya edilmiş simvollar arasında əlavə xərc\n",
        "                    # 1 əlavə etmə + 1 silinmə = 1 əvəzləmə\n",
        "                    + max((row - last_matching_row - 1),\n",
        "                          (col - last_match_col - 1))\n",
        "                    # Transpozisiyanın özü üçün əlavə xərc\n",
        "                    + 1)\n",
        "\n",
        "            # Uyğunluq varsa, son uyğunluq sütununu yenilə\n",
        "            if cost == 0:\n",
        "                last_match_col = col\n",
        "\n",
        "        # Bu xarakter üçün sonuncu sətiri yenilə\n",
        "        last_row[ch_a] = row\n",
        "\n",
        "    # Sonuncu elementi qaytarırıq\n",
        "    return matrix[-1][-1]\n",
        "\n",
        "\n",
        "# Test\n",
        "a = \"abc\"\n",
        "b = \"ca\"\n",
        "result = damerau_levenshtein_distance_improved(a, b)\n",
        "print(\"Damerau-Levenshtein məsafəsi:\", result)\n"
      ]
    }
  ]
}