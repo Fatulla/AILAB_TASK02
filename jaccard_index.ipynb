{
  "nbformat": 4,
  "nbformat_minor": 0,
  "metadata": {
    "colab": {
      "provenance": [],
      "authorship_tag": "ABX9TyNstxsFAwU1niBzw63k0tqh",
      "include_colab_link": true
    },
    "kernelspec": {
      "name": "python3",
      "display_name": "Python 3"
    },
    "language_info": {
      "name": "python"
    }
  },
  "cells": [
    {
      "cell_type": "markdown",
      "metadata": {
        "id": "view-in-github",
        "colab_type": "text"
      },
      "source": [
        "<a href=\"https://colab.research.google.com/github/Fatulla/AILAB_TASK02/blob/main/jaccard_index.ipynb\" target=\"_parent\"><img src=\"https://colab.research.google.com/assets/colab-badge.svg\" alt=\"Open In Colab\"/></a>"
      ]
    },
    {
      "cell_type": "code",
      "execution_count": 2,
      "metadata": {
        "colab": {
          "base_uri": "https://localhost:8080/"
        },
        "id": "Xo6T8kv_R7Ox",
        "outputId": "87302da2-084b-47e0-f084-80f26f9a1af3"
      },
      "outputs": [
        {
          "output_type": "stream",
          "name": "stdout",
          "text": [
            "Jaccard indeksi: 0.8\n"
          ]
        }
      ],
      "source": [
        "def jaccard_index_strings(s1, s2):\n",
        "    # Hər iki sözü çoxluğa çeviririk (simvollar üzrə)\n",
        "    set1 = set(s1)\n",
        "    set2 = set(s2)\n",
        "\n",
        "    # Kəsişməni və birləşməni hesablamaq\n",
        "    intersection = len(set1 & set2)  # Kəsişmə\n",
        "    union = len(set1 | set2)         # Birləşmə\n",
        "\n",
        "    # Jaccard indeksini hesablamaq\n",
        "    return intersection / union\n",
        "\n",
        "# Nümunə:\n",
        "s1 = \"Yalan\"\n",
        "s2 = \"Yolan\"\n",
        "index = jaccard_index_strings(s1, s2)\n",
        "print(f\"Jaccard indeksi: {index}\")\n"
      ]
    }
  ]
}